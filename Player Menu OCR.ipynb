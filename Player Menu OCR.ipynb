{
 "cells": [
  {
   "cell_type": "code",
   "execution_count": null,
   "metadata": {},
   "outputs": [],
   "source": [
    "!pip install pillow\n",
    "!pip install pytesseract\n",
    "!pip install opencv-python-headless\n",
    "!pip install imutils\n",
    "!pip install requests"
   ]
  },
  {
   "cell_type": "code",
   "execution_count": null,
   "metadata": {},
   "outputs": [],
   "source": [
    "# in a terminal: `add-apt-repository ppa:alex-p/tesseract-ocr`  `apt update`\n",
    "!apt install -y tesseract-ocr-grc"
   ]
  },
  {
   "cell_type": "code",
   "execution_count": 16,
   "metadata": {
    "scrolled": false
   },
   "outputs": [
    {
     "name": "stdout",
     "output_type": "stream",
     "text": [
      "('197715007.jpg', 'DARKNINJA607')\n",
      "('149652813.jpg', 'syn EXE')\n",
      "('238423942.jpg', 'CatFiendKing')\n",
      "('113030822.jpg', 'Kable JP')\n",
      "('35981666.jpg', 'Jimmyi2toes')\n",
      "('236111333.jpg', 'RWhiskey')\n",
      "('35961961.jpg', 'Wulfsheim')\n",
      "('136775777.jpg', 'Surrender')\n",
      "('30822037.jpg', 'VETOED')\n",
      "('144290648.jpg', 'TheDeathReborn')\n",
      "('88704859.jpg', 'Apolloo')\n",
      "('172800208.jpg', 'Wolford22')\n",
      "('88593909.jpg', 'nokpz')\n",
      "('142928319.jpg', 'KING HAM')\n",
      "('51948685.jpg', 'YoloSwaggins')\n",
      "('174928413.jpg', 'Walk The Void')\n",
      "('42951808.jpg', 'OmegaCydonia')\n",
      "('112761517.jpg', 'Sakura')\n",
      "('111774134.jpg', 'Shevron')\n"
     ]
    }
   ],
   "source": [
    "from PIL import Image\n",
    "import pytesseract\n",
    "import argparse\n",
    "import cv2 as cv\n",
    "import os\n",
    "import shutil\n",
    "import imutils\n",
    "import numpy as np\n",
    "import re\n",
    "\n",
    "elastic_suffix = ['']\n",
    "\n",
    "def ocrPlayerScreen(filename):\n",
    "    filepath = 'matches/player menu/' + filename\n",
    "    im_rgb = cv.imread(filepath)\n",
    "    im_crop1 = im_rgb[13:180,170:310]\n",
    "\n",
    "    im = cv.cvtColor(im_crop1, cv.COLOR_BGR2GRAY)\n",
    "    im = cv.threshold(im,150,255,cv.THRESH_BINARY_INV)[1]\n",
    "    \n",
    "    lower = np.array([0])\n",
    "    upper = np.array([15])\n",
    "    shapeMask = cv.inRange(im, lower, upper)\n",
    "\n",
    "    cnts = cv.findContours(shapeMask.copy(), cv.RETR_EXTERNAL, cv.CHAIN_APPROX_SIMPLE)\n",
    "    cnts = imutils.grab_contours(cnts)\n",
    "    cnts.reverse()\n",
    "\n",
    "    for c in cnts:\n",
    "        peri = cv.arcLength(c, True)\n",
    "        approx = cv.approxPolyDP(c, 0.04 * peri, True)\n",
    "\n",
    "        if len(approx) == 4:\n",
    "            (x, y, w, h) = cv.boundingRect(approx)\n",
    "            ar = w / float(h)\n",
    "            \n",
    "            if w > 7 and w < 13 and h <= 3 and ar >= 3.5:\n",
    "                \n",
    "                im_crop2 = im_rgb[y + 16:y + 60,x + 168:x+650]\n",
    "                im_crop2 = cv.cvtColor(im_crop2, cv.COLOR_BGR2GRAY)\n",
    "                im_crop2 = cv.threshold(im_crop2,150,255,cv.THRESH_BINARY_INV)[1]\n",
    "\n",
    "                try:\n",
    "                    text = pytesseract.image_to_string(im_crop2)\n",
    "                    first = text.split('\\n')[0]\n",
    "                    ascii = first.encode('ascii', 'ignore').strip().split(' ')\n",
    "                    sans_special = ''\n",
    "                    for string in ascii:\n",
    "                        if bool(re.match('[a-zA-Z0-9]+$', string)):\n",
    "                            sans_special += string + ' '\n",
    "                    stripped = sans_special.strip()\n",
    "                    if stripped:\n",
    "                        print(filename, stripped)\n",
    "                except:\n",
    "                    print('issue parsing text')\n",
    "                break\n",
    "\n",
    "for filename in os.listdir('matches/player menu'):\n",
    "    if not filename.startswith('.'):\n",
    "        ocrPlayerScreen(filename)"
   ]
  }
 ],
 "metadata": {
  "kernelspec": {
   "display_name": "Python 2",
   "language": "python",
   "name": "python2"
  },
  "language_info": {
   "codemirror_mode": {
    "name": "ipython",
    "version": 2
   },
   "file_extension": ".py",
   "mimetype": "text/x-python",
   "name": "python",
   "nbconvert_exporter": "python",
   "pygments_lexer": "ipython2",
   "version": "2.7.12"
  }
 },
 "nbformat": 4,
 "nbformat_minor": 2
}
