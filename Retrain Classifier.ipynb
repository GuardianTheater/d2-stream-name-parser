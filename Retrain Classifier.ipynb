{
 "cells": [
  {
   "cell_type": "code",
   "execution_count": null,
   "metadata": {},
   "outputs": [],
   "source": [
    "!pip install requests\n",
    "!pip install tensorflow_hub"
   ]
  },
  {
   "cell_type": "markdown",
   "metadata": {},
   "source": [
    "Adapted from [this gist](https://gist.github.com/sameerg07/4e0337ed2f77845edbb319633bd324e5/), this first bit takes classification data trained in [this Dataturks project](https://dataturks.com/projects/fried.chris/Destiny%202%20Screen%20Classification), stored in [this gist](https://gist.github.com/chrisfried/75e257f6595f1449e4477c74c07198df/), and outputs it into a folder structure Tensorflow can monch on."
   ]
  },
  {
   "cell_type": "code",
   "execution_count": null,
   "metadata": {},
   "outputs": [],
   "source": [
    "import json\n",
    "import requests\n",
    "import os\n",
    "import shutil\n",
    "\n",
    "def downloader(image_url , i , k):\n",
    "    file_name = i + k\n",
    "    full_file_name = str(file_name) + '.jpg'\n",
    "    r = requests.get(image_url)\n",
    "    with open('dataset/' + i + '/' + full_file_name, 'wb') as fd:\n",
    "        for chunk in r.iter_content(chunk_size=128):\n",
    "            fd.write(chunk)\n",
    "if os.path.exists('d2screens.json'):\n",
    "\tos.remove('d2screens.json')\n",
    "    \n",
    "jr = requests.get('https://gist.githubusercontent.com/chrisfried/75e257f6595f1449e4477c74c07198df/raw/d2screens.json')\n",
    "with open('d2screens.json', 'wb') as fd:\n",
    "    for chunk in jr.iter_content(chunk_size=128):\n",
    "        fd.write(chunk)\n",
    "\n",
    "with open('./d2screens.json') as file1:\n",
    "\tlis = []\t\n",
    "\tfor i in file1:\n",
    "\t\tlis.append(json.loads(i))\n",
    "\n",
    "folder_names = []\n",
    "label_to_urls = {}\n",
    "\n",
    "for i in lis:\n",
    "\ttry:\n",
    "\t\tif i['annotation']['labels'][0] not in folder_names:\n",
    "\t\t\tfolder_names.append(i['annotation']['labels'][0])\n",
    "\t\t\tlabel_to_urls[i['annotation']['labels'][0]] = [i['content']] \t\n",
    "\t\telse:\n",
    "\t\t\tlabel_to_urls[i['annotation']['labels'][0]].append(i['content'])\n",
    "\texcept:\n",
    "\t\tprint('json parse error')\n",
    "\n",
    "if os.path.isdir('dataset'):\n",
    "\tshutil.rmtree('dataset')\n",
    "    \n",
    "os.mkdir('dataset')\n",
    "\n",
    "for i in label_to_urls.keys():\n",
    "# \tif str(i) == 'roster' or str(i) == 'player menu' or str(i) == 'pgcr' or str(i) == 'kill screen' or str(i) == 'character select': \n",
    "    try:\n",
    "        os.mkdir('dataset/' + str(i))\n",
    "    except:\n",
    "        print('folder exists')\n",
    "    k = 0;\t\n",
    "    for j in label_to_urls[i]:\n",
    "        downloader(j , str(i), str(k))\n",
    "        k+=1\n",
    "    if k < 20:\n",
    "        shutil.rmtree('dataset/' + str(i))\n",
    "        \n",
    "if os.path.exists('d2screens.json'):\n",
    "\tos.remove('d2screens.json')"
   ]
  },
  {
   "cell_type": "markdown",
   "metadata": {},
   "source": [
    "Download and retrain the image model"
   ]
  },
  {
   "cell_type": "code",
   "execution_count": null,
   "metadata": {},
   "outputs": [],
   "source": [
    "import shutil\n",
    "\n",
    "!curl -LO https://github.com/tensorflow/hub/raw/master/examples/image_retraining/retrain.py\n",
    "!python retrain.py --image_dir ./dataset\n",
    "shutil.copy('/tmp/output_graph.pb', 'd2_classifier_graph.pb')\n",
    "shutil.copy('/tmp/output_labels.txt', 'd2_classifier_labels.txt')"
   ]
  }
 ],
 "metadata": {
  "kernelspec": {
   "display_name": "Python 2",
   "language": "python",
   "name": "python2"
  },
  "language_info": {
   "codemirror_mode": {
    "name": "ipython",
    "version": 2
   },
   "file_extension": ".py",
   "mimetype": "text/x-python",
   "name": "python",
   "nbconvert_exporter": "python",
   "pygments_lexer": "ipython2",
   "version": "2.7.12"
  }
 },
 "nbformat": 4,
 "nbformat_minor": 2
}
